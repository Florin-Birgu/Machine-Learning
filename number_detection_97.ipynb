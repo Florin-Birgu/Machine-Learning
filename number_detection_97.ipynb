{
  "nbformat": 4,
  "nbformat_minor": 0,
  "metadata": {
    "colab": {
      "name": "number_detection_97.ipynb",
      "provenance": [],
      "collapsed_sections": []
    },
    "kernelspec": {
      "name": "python3",
      "display_name": "Python 3"
    },
    "accelerator": "GPU"
  },
  "cells": [
    {
      "cell_type": "markdown",
      "metadata": {
        "id": "j0my0cGhO5GN",
        "colab_type": "text"
      },
      "source": [
        "## Fetch the data"
      ]
    },
    {
      "cell_type": "code",
      "metadata": {
        "id": "ClsIadarUHV2",
        "colab_type": "code",
        "outputId": "d9a9ef8b-6468-4f7e-dfea-b9a1a11d7e63",
        "colab": {
          "base_uri": "https://localhost:8080/",
          "height": 34
        }
      },
      "source": [
        "import pandas as pd\n",
        "import numpy as np\n",
        "\n",
        "from sklearn.datasets import fetch_openml\n",
        "mnist = fetch_openml('mnist_784', version=1)\n",
        "mnist.keys()"
      ],
      "execution_count": 1,
      "outputs": [
        {
          "output_type": "execute_result",
          "data": {
            "text/plain": [
              "dict_keys(['data', 'target', 'feature_names', 'DESCR', 'details', 'categories', 'url'])"
            ]
          },
          "metadata": {
            "tags": []
          },
          "execution_count": 1
        }
      ]
    },
    {
      "cell_type": "code",
      "metadata": {
        "id": "-QrZuWpYjnT3",
        "colab_type": "code",
        "outputId": "db783b8b-5cba-40a4-a69c-1999af4bb167",
        "colab": {
          "base_uri": "https://localhost:8080/",
          "height": 34
        }
      },
      "source": [
        "X, y = mnist[\"data\"], mnist[\"target\"]\n",
        "print(X.shape)"
      ],
      "execution_count": 2,
      "outputs": [
        {
          "output_type": "stream",
          "text": [
            "(70000, 784)\n"
          ],
          "name": "stdout"
        }
      ]
    },
    {
      "cell_type": "code",
      "metadata": {
        "id": "eBkKFb3LmFfV",
        "colab_type": "code",
        "outputId": "39b9844e-b196-43e4-988d-e710016e68dc",
        "colab": {
          "base_uri": "https://localhost:8080/",
          "height": 248
        }
      },
      "source": [
        "%matplotlib inline\n",
        "import matplotlib\n",
        "import matplotlib.pyplot as plt\n",
        "\n",
        "some_digit = X[41000]\n",
        "some_digit_image = some_digit.reshape(28, 28)\n",
        "\n",
        "plt.imshow(some_digit_image, cmap = matplotlib.cm.binary, interpolation=\"nearest\")\n",
        "plt.axis(\"off\")\n",
        "plt.show()"
      ],
      "execution_count": 3,
      "outputs": [
        {
          "output_type": "display_data",
          "data": {
            "text/plain": [
              "<Figure size 432x288 with 1 Axes>"
            ],
            "image/png": "[encoded data removed]"
          },
          "metadata": {
            "tags": [],
            "needs_background": "light"
          }
        }
      ]
    },
    {
      "cell_type": "markdown",
      "metadata": {
        "id": "R3ZNx32fKxm0",
        "colab_type": "text"
      },
      "source": [
        "## Split the data"
      ]
    },
    {
      "cell_type": "code",
      "metadata": {
        "id": "0ZDHnFD8ms2j",
        "colab_type": "code",
        "colab": {}
      },
      "source": [
        "y = y.astype(np.uint8)\n",
        "\n",
        "train_range = 60000\n",
        "\n",
        "X_train, X_test, y_train, y_test = X[:train_range], X[train_range:], y[:train_range], y[train_range:]\n",
        "\n",
        "shuffle_index = np.random.permutation(train_range)\n",
        "X_train, y_train = X_train[shuffle_index], y_train[shuffle_index]"
      ],
      "execution_count": 0,
      "outputs": []
    },
    {
      "cell_type": "markdown",
      "metadata": {
        "id": "0e1Om8pzDX_l",
        "colab_type": "text"
      },
      "source": [
        "##  Grid search"
      ]
    },
    {
      "cell_type": "code",
      "metadata": {
        "id": "fIE4Uz0WOISV",
        "colab_type": "code",
        "outputId": "3d2ec7d5-0bf7-4e9d-e143-b32f181e0e9e",
        "colab": {
          "base_uri": "https://localhost:8080/",
          "height": 86
        }
      },
      "source": [
        "from sklearn.neighbors import KNeighborsClassifier\n",
        "from sklearn.model_selection import GridSearchCV\n",
        "\n",
        "grid_params = {\n",
        "    'n_neighbors': [3,4,5],\n",
        "    'weights': ['uniform', 'distance']\n",
        "}\n",
        "\n",
        "gs = GridSearchCV(\n",
        "    KNeighborsClassifier(),\n",
        "    grid_params,\n",
        "    verbose = 3,\n",
        "    cv = 5,\n",
        "    n_jobs =-1\n",
        ")\n",
        "gs_results = gs.fit(X_train, y_train)"
      ],
      "execution_count": 5,
      "outputs": [
        {
          "output_type": "stream",
          "text": [
            "Fitting 5 folds for each of 6 candidates, totalling 30 fits\n"
          ],
          "name": "stdout"
        },
        {
          "output_type": "stream",
          "text": [
            "[Parallel(n_jobs=-1)]: Using backend LokyBackend with 8 concurrent workers.\n",
            "[Parallel(n_jobs=-1)]: Done  26 out of  30 | elapsed: 144.5min remaining: 22.2min\n",
            "[Parallel(n_jobs=-1)]: Done  30 out of  30 | elapsed: 144.5min finished\n"
          ],
          "name": "stderr"
        }
      ]
    },
    {
      "cell_type": "code",
      "metadata": {
        "id": "EHieOjcqUyVu",
        "colab_type": "code",
        "colab": {
          "base_uri": "https://localhost:8080/",
          "height": 104
        },
        "outputId": "cf11eaaa-3907-4c2f-cfab-480fffe1db19"
      },
      "source": [
        "print(gs_results.best_score_)\n",
        "print(gs_results.best_estimator_)\n",
        "print(gs_results.best_params_)"
      ],
      "execution_count": 6,
      "outputs": [
        {
          "output_type": "stream",
          "text": [
            "0.9733833333333334\n",
            "KNeighborsClassifier(algorithm='auto', leaf_size=30, metric='minkowski',\n",
            "                     metric_params=None, n_jobs=None, n_neighbors=4, p=2,\n",
            "                     weights='distance')\n",
            "{'n_neighbors': 4, 'weights': 'distance'}\n"
          ],
          "name": "stdout"
        }
      ]
    },
    {
      "cell_type": "markdown",
      "metadata": {
        "id": "6vsBcsUdKWqS",
        "colab_type": "text"
      },
      "source": [
        "Best params:\n",
        "`{'n_neighbors': 4, 'weights': 'distance'}`"
      ]
    }
  ]
}